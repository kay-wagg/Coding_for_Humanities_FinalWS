{
 "cells": [
  {
   "cell_type": "markdown",
   "metadata": {},
   "source": [
    "**Reading Homework:** Using Simulation as an Investigative Methodology in Researching Competencies of Clinical Social Work Practice: A Scoping Review (K. Asakura et al.)"
   ]
  },
  {
   "cell_type": "markdown",
   "metadata": {},
   "source": [
    "Emphasis: Charting the Data \n",
    "\n",
    "![chart explaining the process of data analysis in Asakura et al. articule](asakura_data_chart.jpg)\n"
   ]
  },
  {
   "cell_type": "markdown",
   "metadata": {},
   "source": [
    "Process/Steps for literature review:\n",
    "1. Identification (what literature is being reviewed)\n",
    "2. Screening (what literature within that collection is suitable for review (in this example, got rid of duplicates))\n",
    "3. Eligibility (further assessment of suitability, parsing down selection)\n",
    "4. Included (what's left)\n"
   ]
  }
 ],
 "metadata": {
  "kernelspec": {
   "display_name": "base",
   "language": "python",
   "name": "python3"
  },
  "language_info": {
   "name": "python",
   "version": "3.11.5"
  }
 },
 "nbformat": 4,
 "nbformat_minor": 2
}
